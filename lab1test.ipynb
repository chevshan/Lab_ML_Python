{
 "cells": [
  {
   "cell_type": "code",
   "execution_count": 32,
   "id": "11052e8a-7a67-4aee-baeb-7ae00326dce6",
   "metadata": {
    "editable": true,
    "slideshow": {
     "slide_type": ""
    },
    "tags": []
   },
   "outputs": [
    {
     "name": "stderr",
     "output_type": "stream",
     "text": [
      "C:\\Users\\nvorl\\AppData\\Local\\Temp\\ipykernel_13456\\2271884337.py:11: FutureWarning: Downcasting behavior in `replace` is deprecated and will be removed in a future version. To retain the old behavior, explicitly call `result.infer_objects(copy=False)`. To opt-in to the future behavior, set `pd.set_option('future.no_silent_downcasting', True)`\n",
      "  df['Label'] = df['Label'].replace({'DDoS': 1, 'BENIGN': 0})\n"
     ]
    }
   ],
   "source": [
    "import pandas as pd\n",
    "import numpy as np\n",
    "import matplotlib.pyplot as plt\n",
    "from sklearn.pipeline import Pipeline\n",
    "from sklearn.model_selection import StratifiedKFold, cross_val_score\n",
    "from sklearn.preprocessing import PowerTransformer\n",
    "from sklearn.linear_model import LogisticRegression\n",
    "\n",
    "df = pd.read_csv('dataset.csv')\n",
    "df.columns = df.columns.str.strip()\n",
    "df['Label'] = df['Label'].replace({'DDoS': 1, 'BENIGN': 0})\n",
    "df.drop_duplicates(inplace=True)\n",
    "df.replace([np.inf, -np.inf], np.nan, inplace=True)\n",
    "df.dropna(inplace=True)\n",
    "df = df[['Destination IP', 'Avg Bwd Segment Size', 'Source IP', 'Source Port', 'Packet Length Variance', \n",
    "         'min_seg_size_forward', 'Average Packet Size', 'Avg Fwd Segment Size', 'Label', 'Protocol']]\n",
    "df = df.reset_index(drop=True)"
   ]
  },
  {
   "cell_type": "code",
   "execution_count": 33,
   "id": "ae8f935f-230b-4bdb-b5bc-aef2258cd362",
   "metadata": {},
   "outputs": [],
   "source": [
    "import random\n",
    "\n",
    "def generate_random_value(name):\n",
    "    if df[name].dtype == 'object':\n",
    "        return \".\".join(str(random.randint(0, 255)) for _ in range(4))\n",
    "    else:\n",
    "        return random.randint(int(df[name].min()), int(df[name].max()))"
   ]
  },
  {
   "cell_type": "code",
   "execution_count": null,
   "id": "796b825d-a7a6-42c7-8e68-3e7268489c99",
   "metadata": {},
   "outputs": [
    {
     "name": "stdout",
     "output_type": "stream",
     "text": [
      "0\n",
      "100\n",
      "200\n",
      "300\n",
      "400\n",
      "500\n",
      "600\n",
      "700\n",
      "800\n",
      "900\n",
      "1000\n",
      "1100\n",
      "1200\n",
      "1300\n",
      "1400\n",
      "1500\n",
      "1600\n",
      "1700\n",
      "1800\n",
      "1900\n",
      "2000\n",
      "2100\n",
      "2200\n",
      "2300\n",
      "2400\n",
      "2500\n",
      "2600\n",
      "2700\n",
      "2800\n",
      "2900\n",
      "3000\n",
      "3100\n",
      "3200\n"
     ]
    }
   ],
   "source": [
    "for j in range(0, 20000):\n",
    "    arr = []\n",
    "    for i in range(0, 10):\n",
    "        arr.append(generate_random_value(df.columns[i]))\n",
    "        # print(df.columns[i] + ' = ' + str(arr[i]))\n",
    "    new_row = pd.Series(\n",
    "        data={df.columns[0]: arr[0], df.columns[1]: arr[1], df.columns[2]: arr[2], df.columns[3]: arr[3], df.columns[4]: arr[4],\n",
    "              df.columns[5]: arr[5], df.columns[6]: arr[6], df.columns[7]: arr[7], df.columns[8]: arr[8], df.columns[9]: arr[9]}, name=str(j))\n",
    "    df = df._append(new_row)\n",
    "    if j % 100 == 0:\n",
    "        print(j)"
   ]
  },
  {
   "cell_type": "code",
   "execution_count": null,
   "id": "fb054240-8f33-4437-9e55-32265907aa40",
   "metadata": {
    "editable": true,
    "slideshow": {
     "slide_type": ""
    },
    "tags": []
   },
   "outputs": [],
   "source": []
  }
 ],
 "metadata": {
  "kernelspec": {
   "display_name": "Python 3 (ipykernel)",
   "language": "python",
   "name": "python3"
  },
  "language_info": {
   "codemirror_mode": {
    "name": "ipython",
    "version": 3
   },
   "file_extension": ".py",
   "mimetype": "text/x-python",
   "name": "python",
   "nbconvert_exporter": "python",
   "pygments_lexer": "ipython3",
   "version": "3.12.0"
  }
 },
 "nbformat": 4,
 "nbformat_minor": 5
}
